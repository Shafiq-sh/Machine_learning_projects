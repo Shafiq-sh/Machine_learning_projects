{
 "cells": [
  {
   "cell_type": "markdown",
   "metadata": {
    "id": "7eiDWcM_MC3H"
   },
   "source": [
    "# <font color='Violet'>Implementing Logistic regression using Stochastic Gradient Descent without using sklearn</font>"
   ]
  },
  {
   "cell_type": "markdown",
   "metadata": {
    "id": "Fk5DSPCLxqT-"
   },
   "source": [
    "<font color='red'> Importing packages</font>"
   ]
  },
  {
   "cell_type": "code",
   "execution_count": 63,
   "metadata": {
    "id": "42Et8BKIxnsp"
   },
   "outputs": [],
   "source": [
    "import numpy as np\n",
    "import pandas as pd\n",
    "from sklearn.datasets import make_classification\n",
    "from sklearn.model_selection import train_test_split\n",
    "from sklearn.preprocessing import StandardScaler\n",
    "from sklearn import linear_model"
   ]
  },
  {
   "cell_type": "markdown",
   "metadata": {
    "id": "NpSk3WQBx7TQ"
   },
   "source": [
    "<font color='red'>Creating custom dataset</font>"
   ]
  },
  {
   "cell_type": "code",
   "execution_count": 64,
   "metadata": {
    "id": "BsMp0oWzx6dv"
   },
   "outputs": [],
   "source": [
    "X, y = make_classification(n_samples=50000, n_features=15, n_informative=10, n_redundant=5,\n",
    "                           n_classes=2, weights=[0.7], class_sep=0.7, random_state=15)\n"
   ]
  },
  {
   "cell_type": "code",
   "execution_count": 65,
   "metadata": {
    "colab": {
     "base_uri": "https://localhost:8080/",
     "height": 34
    },
    "id": "L8W2fg1cyGdX",
    "outputId": "029d4c84-03b2-4143-a04c-34ff49c88890"
   },
   "outputs": [
    {
     "data": {
      "text/plain": [
       "((50000, 15), (50000,))"
      ]
     },
     "execution_count": 65,
     "metadata": {},
     "output_type": "execute_result"
    }
   ],
   "source": [
    "X.shape, y.shape"
   ]
  },
  {
   "cell_type": "markdown",
   "metadata": {
    "id": "x99RWCgpqNHw"
   },
   "source": [
    "<font color='red'>Splitting data into train and test </font>"
   ]
  },
  {
   "cell_type": "code",
   "execution_count": 66,
   "metadata": {
    "id": "0Kh4dBfVyJMP"
   },
   "outputs": [],
   "source": [
    "X_train, X_test, y_train, y_test = train_test_split(X, y, test_size=0.25, random_state=15)"
   ]
  },
  {
   "cell_type": "code",
   "execution_count": 67,
   "metadata": {
    "id": "gONY1YiDq7jD"
   },
   "outputs": [],
   "source": [
    "# Standardizing the data.\n",
    "scaler = StandardScaler()\n",
    "X_train = scaler.fit_transform(X_train)\n",
    "X_test = scaler.transform(X_test)"
   ]
  },
  {
   "cell_type": "code",
   "execution_count": 68,
   "metadata": {
    "colab": {
     "base_uri": "https://localhost:8080/",
     "height": 34
    },
    "id": "0DR_YMBsyOci",
    "outputId": "732014d9-1731-4d3f-918f-a9f5255ee149"
   },
   "outputs": [
    {
     "data": {
      "text/plain": [
       "((37500, 15), (37500,), (12500, 15), (12500,))"
      ]
     },
     "execution_count": 68,
     "metadata": {},
     "output_type": "execute_result"
    }
   ],
   "source": [
    "X_train.shape, y_train.shape, X_test.shape, y_test.shape"
   ]
  },
  {
   "cell_type": "markdown",
   "metadata": {
    "id": "BW4OHswfqjHR"
   },
   "source": [
    "# <font color='red' size=5>SGD classifier using Sklearn</font>"
   ]
  },
  {
   "cell_type": "code",
   "execution_count": 69,
   "metadata": {
    "colab": {
     "base_uri": "https://localhost:8080/",
     "height": 118
    },
    "id": "3HpvTwDHyQQy",
    "outputId": "5729f08c-079a-4b17-bf51-f9aeb5abb13b"
   },
   "outputs": [
    {
     "data": {
      "text/plain": [
       "SGDClassifier(eta0=0.0001, learning_rate='constant', loss='log',\n",
       "              random_state=15, verbose=2)"
      ]
     },
     "execution_count": 69,
     "metadata": {},
     "output_type": "execute_result"
    }
   ],
   "source": [
    "# alpha : float\n",
    "# Constant that multiplies the regularization term. \n",
    "\n",
    "# eta0 : double\n",
    "# The initial learning rate for the ‘constant’, ‘invscaling’ or ‘adaptive’ schedules.\n",
    "\n",
    "clf = linear_model.SGDClassifier(eta0=0.0001, alpha=0.0001, loss='log', random_state=15, penalty='l2', tol=1e-3, verbose=2, learning_rate='constant')\n",
    "clf\n",
    "# Please check this documentation (https://scikit-learn.org/stable/modules/generated/sklearn.linear_model.SGDClassifier.html) "
   ]
  },
  {
   "cell_type": "code",
   "execution_count": 70,
   "metadata": {
    "colab": {
     "base_uri": "https://localhost:8080/",
     "height": 638
    },
    "id": "YYaVyQ2lyXcr",
    "outputId": "dc0bf840-b37e-4552-e513-84b64f6c64c4"
   },
   "outputs": [
    {
     "name": "stdout",
     "output_type": "stream",
     "text": [
      "-- Epoch 1\n",
      "Norm: 0.70, NNZs: 15, Bias: -0.501317, T: 37500, Avg. loss: 0.552526\n",
      "Total training time: 0.01 seconds.\n",
      "-- Epoch 2\n",
      "Norm: 1.04, NNZs: 15, Bias: -0.752393, T: 75000, Avg. loss: 0.448021\n",
      "Total training time: 0.01 seconds.\n",
      "-- Epoch 3\n",
      "Norm: 1.26, NNZs: 15, Bias: -0.902742, T: 112500, Avg. loss: 0.415724\n",
      "Total training time: 0.02 seconds.\n",
      "-- Epoch 4\n",
      "Norm: 1.43, NNZs: 15, Bias: -1.003816, T: 150000, Avg. loss: 0.400895\n",
      "Total training time: 0.02 seconds.\n",
      "-- Epoch 5\n",
      "Norm: 1.55, NNZs: 15, Bias: -1.076296, T: 187500, Avg. loss: 0.392879\n",
      "Total training time: 0.03 seconds.\n",
      "-- Epoch 6\n",
      "Norm: 1.65, NNZs: 15, Bias: -1.131077, T: 225000, Avg. loss: 0.388094\n",
      "Total training time: 0.03 seconds.\n",
      "-- Epoch 7\n",
      "Norm: 1.73, NNZs: 15, Bias: -1.171791, T: 262500, Avg. loss: 0.385077\n",
      "Total training time: 0.04 seconds.\n",
      "-- Epoch 8\n",
      "Norm: 1.80, NNZs: 15, Bias: -1.203840, T: 300000, Avg. loss: 0.383074\n",
      "Total training time: 0.04 seconds.\n",
      "-- Epoch 9\n",
      "Norm: 1.86, NNZs: 15, Bias: -1.229563, T: 337500, Avg. loss: 0.381703\n",
      "Total training time: 0.04 seconds.\n",
      "-- Epoch 10\n",
      "Norm: 1.90, NNZs: 15, Bias: -1.251245, T: 375000, Avg. loss: 0.380763\n",
      "Total training time: 0.05 seconds.\n",
      "-- Epoch 11\n",
      "Norm: 1.94, NNZs: 15, Bias: -1.269044, T: 412500, Avg. loss: 0.380084\n",
      "Total training time: 0.05 seconds.\n",
      "-- Epoch 12\n",
      "Norm: 1.98, NNZs: 15, Bias: -1.282485, T: 450000, Avg. loss: 0.379607\n",
      "Total training time: 0.06 seconds.\n",
      "-- Epoch 13\n",
      "Norm: 2.01, NNZs: 15, Bias: -1.294386, T: 487500, Avg. loss: 0.379251\n",
      "Total training time: 0.06 seconds.\n",
      "-- Epoch 14\n",
      "Norm: 2.03, NNZs: 15, Bias: -1.305805, T: 525000, Avg. loss: 0.378992\n",
      "Total training time: 0.06 seconds.\n",
      "Convergence after 14 epochs took 0.06 seconds\n"
     ]
    },
    {
     "data": {
      "text/plain": [
       "SGDClassifier(eta0=0.0001, learning_rate='constant', loss='log',\n",
       "              random_state=15, verbose=2)"
      ]
     },
     "execution_count": 70,
     "metadata": {},
     "output_type": "execute_result"
    }
   ],
   "source": [
    "clf.fit(X=X_train, y=y_train) # fitting our model"
   ]
  },
  {
   "cell_type": "code",
   "execution_count": 71,
   "metadata": {
    "colab": {
     "base_uri": "https://localhost:8080/",
     "height": 101
    },
    "id": "EAfkVI6GyaRO",
    "outputId": "bc88f920-6531-4106-9b4c-4dabb6d72b47"
   },
   "outputs": [
    {
     "data": {
      "text/plain": [
       "(array([[-0.89007184,  0.63162363, -0.07594145,  0.63107107, -0.38434375,\n",
       "          0.93235243, -0.89573521, -0.07340522,  0.40591417,  0.4199991 ,\n",
       "          0.24722143,  0.05046199, -0.08877987,  0.54081652,  0.06643888]]),\n",
       " (1, 15),\n",
       " array([-1.30580538]))"
      ]
     },
     "execution_count": 71,
     "metadata": {},
     "output_type": "execute_result"
    }
   ],
   "source": [
    "clf.coef_, clf.coef_.shape, clf.intercept_\n",
    "#clf.coef_ will return the weights\n",
    "#clf.coef_.shape will return the shape of weights\n",
    "#clf.intercept_ will return the intercept term"
   ]
  },
  {
   "cell_type": "markdown",
   "metadata": {
    "id": "_-CcGTKgsMrY"
   },
   "source": [
    "\n",
    "\n",
    "```\n",
    "# This is formatted as code\n",
    "```\n",
    "\n",
    "## <font color='red' size=5> Implementing Logistic Regression with L2 regularization Using SGD: without using sklearn </font>\n",
    "\n"
   ]
  },
  {
   "cell_type": "markdown",
   "metadata": {
    "id": "zU2Y3-FQuJ3z"
   },
   "source": [
    "\n",
    "<br>\n",
    "<h2>We will follow the below steps</h2>\n",
    "\n",
    "1) Initialize the weight_vector and intercept term to zeros \n",
    "\n",
    "2) Create a loss function \n",
    "\n",
    " $log loss = -1*\\frac{1}{n}\\Sigma_{for each Yt,Y_{pred}}(Ytlog10(Y_{pred})+(1-Yt)log10(1-Y_{pred}))$\n",
    "- for each epoch:\n",
    "\n",
    "    - for each batch of data points in train: (keep batch size=1)<br>\n",
    "\n",
    "        - calculate the gradient of loss function w.r.t each weight in weight vector <br>\n",
    "\n",
    "        $dw^{(t)} = x_n(y_n − σ((w^{(t)})^{T} x_n+b^{t}))- \\frac{λ}{N}w^{(t)})$ <br><br>\n",
    "\n",
    "        - Calculate the gradient of the intercept <br><br>\n",
    "           $ db^{(t)} = y_n- σ((w^{(t)})^{T} x_n+b^{t}))$<br><br>\n",
    "\n",
    "        - Update weights and intercept  <br><br>\n",
    "        $w^{(t+1)}← w^{(t)}+α(dw^{(t)}) $<br>\n",
    "\n",
    "        $b^{(t+1)}←b^{(t)}+α(db^{(t)}) $<br><br>\n",
    "    - calculate the log loss for train and test with the updated weights \n",
    "    - We can now compare the previous loss and the current loss, if it is not updating, then we can stop the training\n",
    "    - We will append this loss in a list ( this will be used to see how loss is changing for each epoch after the training is over )\n"
   ]
  },
  {
   "cell_type": "markdown",
   "metadata": {
    "id": "ZR_HgjgS_wKu"
   },
   "source": [
    "<font color='blue'>Initialize weights </font>"
   ]
  },
  {
   "cell_type": "code",
   "execution_count": 72,
   "metadata": {
    "id": "GecwYV9fsKZ9"
   },
   "outputs": [],
   "source": [
    "def initialize_weights(dim):\n",
    "    ''' In this function, we will initialize our weights and bias'''\n",
    "    #initialize the weights to zeros array of (1,dim) dimensions\n",
    "    #initialize bias to zero\n",
    "    w = np.zeros_like(X_train[0])\n",
    "    b = 0\n",
    "    return w,b"
   ]
  },
  {
   "cell_type": "code",
   "execution_count": 73,
   "metadata": {
    "id": "A7I6uWBRsKc4"
   },
   "outputs": [
    {
     "name": "stdout",
     "output_type": "stream",
     "text": [
      "w = [0. 0. 0. 0. 0. 0. 0. 0. 0. 0. 0. 0. 0. 0. 0.]\n",
      "b = 0\n"
     ]
    }
   ],
   "source": [
    "dim=X_train[0] \n",
    "w,b = initialize_weights(dim)\n",
    "print('w =',(w))\n",
    "print('b =',str(b))\n"
   ]
  },
  {
   "cell_type": "markdown",
   "metadata": {
    "id": "QN83oMWy_5rv"
   },
   "source": [
    "<font color='blue'>Compute sigmoid </font>"
   ]
  },
  {
   "cell_type": "markdown",
   "metadata": {
    "id": "qPv4NJuxABgs"
   },
   "source": [
    "$sigmoid(z)= 1/(1+exp(-z))$"
   ]
  },
  {
   "cell_type": "code",
   "execution_count": 74,
   "metadata": {
    "id": "nAfmQF47_Sd6"
   },
   "outputs": [],
   "source": [
    "import math\n",
    "def sigmoid(z):\n",
    "    ''' In this function, we will return sigmoid of z'''\n",
    "    h = 1/(1+np.exp(-z))\n",
    "\n",
    "    return h"
   ]
  },
  {
   "cell_type": "markdown",
   "metadata": {
    "id": "gS7JXbcrBOFF"
   },
   "source": [
    "<font color='blue'> Compute loss </font>"
   ]
  },
  {
   "cell_type": "markdown",
   "metadata": {
    "id": "lfEiS22zBVYy"
   },
   "source": [
    "$log loss = -1*\\frac{1}{n}\\Sigma_{for each Yt,Y_{pred}}(Ytlog10(Y_{pred})+(1-Yt)log10(1-Y_{pred}))$"
   ]
  },
  {
   "cell_type": "code",
   "execution_count": 75,
   "metadata": {
    "id": "VaFDgsp3sKi6"
   },
   "outputs": [],
   "source": [
    "def logloss(y_true,y_pred):\n",
    "    '''In this function, we will compute log loss '''\n",
    "    l = len(y_pred)\n",
    "    loss = 0\n",
    "    for ele in range(0,l):\n",
    "        temp_loss = (y_true[ele] * np.log10(y_pred[ele])) + ((1 - y_true[ele]) * np.log10(1 - y_pred[ele]))\n",
    "        loss += temp_loss\n",
    "    \n",
    "    loss = (-1 * loss)/l\n",
    "    return loss"
   ]
  },
  {
   "cell_type": "markdown",
   "metadata": {
    "id": "tQabIadLCBAB"
   },
   "source": [
    "<font color='blue'>Compute gradient w.r.to  'w' </font>"
   ]
  },
  {
   "cell_type": "markdown",
   "metadata": {
    "id": "YTMxiYKaCQgd"
   },
   "source": [
    "$dw^{(t)} = x_n(y_n − σ((w^{(t)})^{T} x_n+b^{t}))- \\frac{λ}{N}w^{(t)}$ <br>"
   ]
  },
  {
   "cell_type": "code",
   "execution_count": 76,
   "metadata": {
    "id": "NMVikyuFsKo5"
   },
   "outputs": [],
   "source": [
    "def gradient_dw(x,y,w,b,alpha,N):\n",
    "    '''In this function, we will compute the gardient w.r.to w '''\n",
    "    dw = (x * (y - sigmoid(np.dot(w,x) + b))) - ((alpha/N)*w)\n",
    "    return dw"
   ]
  },
  {
   "cell_type": "markdown",
   "metadata": {
    "id": "LE8g84_GI62n"
   },
   "source": [
    "<font color='blue'>Compute gradient w.r.to 'b' </font>"
   ]
  },
  {
   "cell_type": "markdown",
   "metadata": {
    "id": "fHvTYZzZJJ_N"
   },
   "source": [
    "$ db^{(t)} = y_n- σ((w^{(t)})^{T} x_n+b^{t})$"
   ]
  },
  {
   "cell_type": "code",
   "execution_count": 77,
   "metadata": {
    "id": "0nUf2ft4EZp8"
   },
   "outputs": [],
   "source": [
    "def gradient_db(x,y,w,b):\n",
    "    db = y - sigmoid(np.dot(w,x) + b)\n",
    "    return db"
   ]
  },
  {
   "cell_type": "markdown",
   "metadata": {
    "id": "TCK0jY_EOvyU"
   },
   "source": [
    "<font color='blue'> Implementing logistic regression</font>"
   ]
  },
  {
   "cell_type": "code",
   "execution_count": 78,
   "metadata": {
    "id": "dmAdc5ejEZ25"
   },
   "outputs": [],
   "source": [
    "def train(X_train,y_train,X_test,y_test,epochs,alpha,eta0):\n",
    "    ''' In this function, we will implement logistic regression'''\n",
    "    #Here eta0 is learning rate\n",
    "    #implement the code as follows\n",
    "    # initalize the weights (call the initialize_weights(X_train[0]) function)\n",
    "    # for every epoch\n",
    "        # for every data point(X_train,y_train)\n",
    "           #compute gradient w.r.to w (call the gradient_dw() function)\n",
    "           #compute gradient w.r.to b (call the gradient_db() function)\n",
    "           #update w, b\n",
    "        # predict the output of x_train[for all data points in X_train] using w,b\n",
    "        #compute the loss between predicted and actual values (call the loss function)\n",
    "        # store all the train loss values in a list\n",
    "        # predict the output of x_test[for all data points in X_test] using w,b\n",
    "        #compute the loss between predicted and actual values (call the loss function)\n",
    "        # store all the test loss values in a list\n",
    "        # you can also compare previous loss and current loss, if loss is not updating then stop the process and return w,b\n",
    "\n",
    "    return w,b"
   ]
  },
  {
   "cell_type": "code",
   "execution_count": 79,
   "metadata": {},
   "outputs": [],
   "source": [
    "from tqdm import tqdm\n",
    "def train(X_train,y_train,X_test,y_test,epochs,alpha,eta0,N):\n",
    "    w,b = initialize_weights(X_train[0])\n",
    "    train_loss = []\n",
    "    test_loss = []\n",
    "    for i in range(epochs):\n",
    "        y_train_pred = []\n",
    "        y_test_pred = []\n",
    "        for j in range(0,len(X_train)):\n",
    "            dw = gradient_dw(X_train[j],y_train[j],w,b,alpha,N)\n",
    "            db = gradient_db(X_train[j],y_train[j],w,b)\n",
    "            w = w + (eta0*dw)\n",
    "            b = b + (eta0*db)\n",
    "        for j in range(0,len(X_train)):\n",
    "            y_train_pred.append(sigmoid(np.dot(w,X_train[j]) + b))\n",
    "        loss = logloss(y_train,y_train_pred)\n",
    "        train_loss.append(loss)\n",
    "        for k in range(0,len(X_test)):\n",
    "            y_test_pred.append(sigmoid(np.dot(w,X_test[k]) + b))\n",
    "        loss = logloss(y_test,y_test_pred)\n",
    "        test_loss.append(loss)\n",
    "        print(f\"EPOCH{i+1}\\nTrain_loss = {train_loss[i]} , Test_loss = {test_loss[i]}\\n\")\n",
    "        print(\"=\"*15)\n",
    "        convergence = i+1\n",
    "        if len(test_loss) >= 2:\n",
    "            if test_loss[i] > test_loss[i-1]:\n",
    "                print(f\"\\nCONVERGENCE AFTER {i+1} EPOCHS , BEST_TEST_LOG_LOSS = {test_loss[i-1]}\")\n",
    "                return w,b,train_loss,test_loss,convergence\n",
    "                \n",
    "        \n",
    "    return w,b,train_loss,test_loss,convergence\n",
    "            \n",
    "        \n",
    "        "
   ]
  },
  {
   "cell_type": "code",
   "execution_count": 80,
   "metadata": {
    "id": "sUquz7LFEZ6E"
   },
   "outputs": [
    {
     "name": "stdout",
     "output_type": "stream",
     "text": [
      "EPOCH1\n",
      "Train_loss = 0.20729781784140838 , Test_loss = 0.2072221978118188\n",
      "\n",
      "===============\n",
      "EPOCH2\n",
      "Train_loss = 0.18556210141426166 , Test_loss = 0.18565259434678275\n",
      "\n",
      "===============\n",
      "EPOCH3\n",
      "Train_loss = 0.17659652085620509 , Test_loss = 0.17682567720849304\n",
      "\n",
      "===============\n",
      "EPOCH4\n",
      "Train_loss = 0.17201289496451902 , Test_loss = 0.17235324848189568\n",
      "\n",
      "===============\n",
      "EPOCH5\n",
      "Train_loss = 0.16938000886115878 , Test_loss = 0.16981009840800468\n",
      "\n",
      "===============\n",
      "EPOCH6\n",
      "Train_loss = 0.16775336575455 , Test_loss = 0.16825663498220056\n",
      "\n",
      "===============\n",
      "EPOCH7\n",
      "Train_loss = 0.1666977629761566 , Test_loss = 0.16726128890692274\n",
      "\n",
      "===============\n",
      "EPOCH8\n",
      "Train_loss = 0.1659883750043287 , Test_loss = 0.16660192986644845\n",
      "\n",
      "===============\n",
      "EPOCH9\n",
      "Train_loss = 0.16549918227604976 , Test_loss = 0.16615457121757735\n",
      "\n",
      "===============\n",
      "EPOCH10\n",
      "Train_loss = 0.16515513945496196 , Test_loss = 0.16584572669386236\n",
      "\n",
      "===============\n",
      "EPOCH11\n",
      "Train_loss = 0.164909442960959 , Test_loss = 0.1656298054033339\n",
      "\n",
      "===============\n",
      "EPOCH12\n",
      "Train_loss = 0.1647318311394912 , Test_loss = 0.16547750036682654\n",
      "\n",
      "===============\n",
      "EPOCH13\n",
      "Train_loss = 0.16460216964645408 , Test_loss = 0.16536943679761335\n",
      "\n",
      "===============\n",
      "EPOCH14\n",
      "Train_loss = 0.16450674989278702 , Test_loss = 0.16529251625482547\n",
      "\n",
      "===============\n",
      "EPOCH15\n",
      "Train_loss = 0.16443606134127775 , Test_loss = 0.16523772268630538\n",
      "\n",
      "===============\n",
      "EPOCH16\n",
      "Train_loss = 0.1643834031232729 , Test_loss = 0.1651987592688669\n",
      "\n",
      "===============\n",
      "EPOCH17\n",
      "Train_loss = 0.16434399300380859 , Test_loss = 0.16517117642490298\n",
      "\n",
      "===============\n",
      "EPOCH18\n",
      "Train_loss = 0.16431438119164668 , Test_loss = 0.16515180015954944\n",
      "\n",
      "===============\n",
      "EPOCH19\n",
      "Train_loss = 0.1642920564949399 , Test_loss = 0.16513834939454075\n",
      "\n",
      "===============\n",
      "EPOCH20\n",
      "Train_loss = 0.16427517690890997 , Test_loss = 0.1651291752338442\n",
      "\n",
      "===============\n",
      "EPOCH21\n",
      "Train_loss = 0.16426238246016317 , Test_loss = 0.16512308060398706\n",
      "\n",
      "===============\n",
      "EPOCH22\n",
      "Train_loss = 0.16425266345784117 , Test_loss = 0.16511919387338203\n",
      "\n",
      "===============\n",
      "EPOCH23\n",
      "Train_loss = 0.16424526668148534 , Test_loss = 0.16511687931615676\n",
      "\n",
      "===============\n",
      "EPOCH24\n",
      "Train_loss = 0.16423962791724517 , Test_loss = 0.16511567308220965\n",
      "\n",
      "===============\n",
      "EPOCH25\n",
      "Train_loss = 0.16423532302395338 , Test_loss = 0.1651152370423451\n",
      "\n",
      "===============\n",
      "EPOCH26\n",
      "Train_loss = 0.16423203217373444 , Test_loss = 0.16511532529485728\n",
      "\n",
      "===============\n",
      "\n",
      "CONVERGENCE AFTER 26 EPOCHS , BEST_TEST_LOG_LOSS = 0.1651152370423451\n"
     ]
    }
   ],
   "source": [
    "alpha=0.0001\n",
    "eta0=0.0001\n",
    "N=len(X_train)\n",
    "epochs=50\n",
    "w,b,train_loss,test_loss,convergence=train(X_train,y_train,X_test,y_test,epochs,alpha,eta0,N)"
   ]
  },
  {
   "cell_type": "code",
   "execution_count": 81,
   "metadata": {},
   "outputs": [
    {
     "name": "stdout",
     "output_type": "stream",
     "text": [
      "Weight vector implemented from scratch = [-0.95666977  0.68450625 -0.10019437  0.67200277 -0.43276133  0.99396428\n",
      " -0.93472663 -0.07292547  0.43957276  0.46609465  0.26913868  0.0588015\n",
      " -0.09438729  0.56472222  0.0646547 ]\n",
      "\n",
      "Intercept implemented from scratch = -1.3568014565248212\n"
     ]
    }
   ],
   "source": [
    "print(f\"Weight vector implemented from scratch = {w}\\n\\nIntercept implemented from scratch = {b}\")\n",
    "# print(f\"TRAIN LOSS \\n{train_loss}\\n===========\\nTEST LOSS \\n{test_loss}\")"
   ]
  },
  {
   "cell_type": "markdown",
   "metadata": {
    "id": "l4Zf_wPARlwY"
   },
   "source": [
    "<font color='red'>Results</font>"
   ]
  },
  {
   "cell_type": "markdown",
   "metadata": {
    "id": "l3eF_VSPSH2z"
   },
   "source": [
    "Lets Compare our custom implementation with SGDClassifier's the weights and intercept"
   ]
  },
  {
   "cell_type": "code",
   "execution_count": 82,
   "metadata": {
    "id": "nx8Rs9rfEZ1R"
   },
   "outputs": [
    {
     "name": "stdout",
     "output_type": "stream",
     "text": [
      "Weight vector from sklearn = [[-0.89007184  0.63162363 -0.07594145  0.63107107 -0.38434375  0.93235243\n",
      "  -0.89573521 -0.07340522  0.40591417  0.4199991   0.24722143  0.05046199\n",
      "  -0.08877987  0.54081652  0.06643888]]\n",
      "\n",
      "Intercept from sklearn = [-1.30580538]\n"
     ]
    }
   ],
   "source": [
    "# these are the results we got after we implemented sgd and found the optimal weights and intercept\n",
    "print(f\"Weight vector from sklearn = {clf.coef_}\\n\\nIntercept from sklearn = {clf.intercept_}\")\n",
    "\n",
    "# clf.coef_, clf.intercept_"
   ]
  },
  {
   "cell_type": "code",
   "execution_count": 83,
   "metadata": {},
   "outputs": [
    {
     "name": "stdout",
     "output_type": "stream",
     "text": [
      "Requirement already satisfied: PrettyTable in c:\\users\\shafiq\\anaconda3\\lib\\site-packages (2.2.1)\n",
      "Requirement already satisfied: wcwidth in c:\\users\\shafiq\\anaconda3\\lib\\site-packages (from PrettyTable) (0.2.5)\n",
      "Note: you may need to restart the kernel to use updated packages.\n"
     ]
    }
   ],
   "source": [
    "pip install PrettyTable"
   ]
  },
  {
   "cell_type": "code",
   "execution_count": 84,
   "metadata": {
    "scrolled": true
   },
   "outputs": [
    {
     "name": "stdout",
     "output_type": "stream",
     "text": [
      "+---------------------------------------+---------------------------------------------------------------------------+\n",
      "|                Field 1                |                                  Field 2                                  |\n",
      "+---------------------------------------+---------------------------------------------------------------------------+\n",
      "|  weights_from_scratch_implementation  |  [-0.95666977  0.68450625 -0.10019437  0.67200277 -0.43276133  0.99396428 |\n",
      "|                                       |   -0.93472663 -0.07292547  0.43957276  0.46609465  0.26913868  0.0588015  |\n",
      "|                                       |                    -0.09438729  0.56472222  0.0646547 ]                   |\n",
      "|          weights_from_sklearn         | [[-0.89007184  0.63162363 -0.07594145  0.63107107 -0.38434375  0.93235243 |\n",
      "|                                       |   -0.89573521 -0.07340522  0.40591417  0.4199991   0.24722143  0.05046199 |\n",
      "|                                       |                    -0.08877987  0.54081652  0.06643888]]                  |\n",
      "| intercept_from_scratch_implementation |                            -1.3568014565248212                            |\n",
      "|         intercept_from_sklearn        |                               [-1.30580538]                               |\n",
      "+---------------------------------------+---------------------------------------------------------------------------+\n"
     ]
    }
   ],
   "source": [
    "weights_from_scratch_implementation=['weights_from_scratch_implementation',w]\n",
    "intercept_from_scratch_implementation=['intercept_from_scratch_implementation',b]\n",
    "weights_from_sklearn=['weights_from_sklearn',clf.coef_]\n",
    "intercept_from_sklearn=['intercept_from_sklearn',clf.intercept_]\n",
    "\n",
    "\n",
    "from prettytable import PrettyTable\n",
    "from prettytable import MSWORD_FRIENDLY,FRAME\n",
    "x.set_style(MSWORD_FRIENDLY)\n",
    "x = PrettyTable()\n",
    "x.hrules = FRAME\n",
    "# x = PrettyTable( padding_width=5)\n",
    "x.add_row(weights_from_scratch_implementation)\n",
    "x.add_row(weights_from_sklearn)\n",
    "x.add_row(intercept_from_scratch_implementation)\n",
    "x.add_row(intercept_from_sklearn)\n",
    "print(x)"
   ]
  },
  {
   "cell_type": "markdown",
   "metadata": {},
   "source": [
    "<font color='red'>We can see that the Scratch Implementation VS Sklearn results are very close to each other. </font>"
   ]
  },
  {
   "cell_type": "markdown",
   "metadata": {
    "id": "230YbSgNSUrQ"
   },
   "source": [
    "<font color='blue'>Plotting Epochs VS Train and Test loss </font>\n",
    "\n",
    "* Epoch number on X-axis\n",
    "* Log_loss on Y-axis"
   ]
  },
  {
   "cell_type": "code",
   "execution_count": 85,
   "metadata": {
    "id": "1O6GrRt7UeCJ"
   },
   "outputs": [
    {
     "data": {
      "text/plain": [
       "<function matplotlib.pyplot.show(close=None, block=None)>"
      ]
     },
     "execution_count": 85,
     "metadata": {},
     "output_type": "execute_result"
    },
    {
     "data": {
      "image/png": "[encoded data removed]",
      "text/plain": [
       "<Figure size 432x288 with 1 Axes>"
      ]
     },
     "metadata": {
      "needs_background": "light"
     },
     "output_type": "display_data"
    }
   ],
   "source": [
    "from matplotlib import pyplot as plt\n",
    "epoch = [i for i in range(1,convergence+1,1)]\n",
    "\n",
    "plt.plot(epoch,train_loss , label='train_log_loss')\n",
    "plt.plot(epoch,test_loss, label='test_log_loss')\n",
    "plt.xlabel(\"epoch number\")\n",
    "plt.ylabel(\"log loss\")\n",
    "plt.legend()\n",
    "plt.show"
   ]
  },
  {
   "cell_type": "markdown",
   "metadata": {},
   "source": [
    "<font color='blue'>Calculating accuracy </font>"
   ]
  },
  {
   "cell_type": "code",
   "execution_count": 86,
   "metadata": {
    "id": "FUN8puFoEZtU"
   },
   "outputs": [
    {
     "name": "stdout",
     "output_type": "stream",
     "text": [
      "Train accuracy = 0.9514666666666667 \n",
      "Test accuracy = 0.9488\n"
     ]
    }
   ],
   "source": [
    "def pred(w,b, X):\n",
    "    N = len(X)\n",
    "    predict = []\n",
    "    for i in range(N):\n",
    "        z=np.dot(w,X[i])+b\n",
    "        if sigmoid(z) >= 0.5: # sigmoid(w,x,b) returns 1/(1+exp(-(dot(x,w)+b)))\n",
    "            predict.append(1)\n",
    "        else:\n",
    "            predict.append(0)\n",
    "    return np.array(predict)\n",
    "accuracy_train = (1-np.sum(y_train - pred(w,b,X_train))/len(X_train))\n",
    "accuracy_test = (1-np.sum(y_test  - pred(w,b,X_test))/len(X_test))\n",
    "\n",
    "print(f\"Train accuracy = {accuracy_train} \\nTest accuracy = {accuracy_test}\")"
   ]
  },
  {
   "cell_type": "markdown",
   "metadata": {},
   "source": [
    "# <font color='Violet'>Conclusion : We have successfully implemented logistic regression with SGD from scratch without using Sklearn</font>"
   ]
  }
 ],
 "metadata": {
  "colab": {
   "collapsed_sections": [],
   "name": "Assignment.ipynb",
   "provenance": []
  },
  "kernelspec": {
   "display_name": "Python 3",
   "language": "python",
   "name": "python3"
  },
  "language_info": {
   "codemirror_mode": {
    "name": "ipython",
    "version": 3
   },
   "file_extension": ".py",
   "mimetype": "text/x-python",
   "name": "python",
   "nbconvert_exporter": "python",
   "pygments_lexer": "ipython3",
   "version": "3.8.8"
  }
 },
 "nbformat": 4,
 "nbformat_minor": 1
}
