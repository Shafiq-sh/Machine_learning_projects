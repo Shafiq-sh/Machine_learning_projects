{
 "cells": [
  {
   "cell_type": "markdown",
   "metadata": {
    "id": "h9464I-uxLiw"
   },
   "source": [
    "# TF-IDF Vectorizer without Scikit learn"
   ]
  },
  {
   "cell_type": "markdown",
   "metadata": {
    "id": "IvLvmewlxLix"
   },
   "source": [
    "<font face='georgia'>\n",
    "    \n",
    "   <h4><strong>What does tf-idf mean?</strong></h4>\n",
    "\n",
    "   <p>    \n",
    "Tf-idf stands for <em>term frequency-inverse document frequency</em>, and the tf-idf weight is a weight often used in information retrieval and text mining. This weight is a statistical measure used to evaluate how important a word is to a document in a collection or corpus. The importance increases proportionally to the number of times a word appears in the document but is offset by the frequency of the word in the corpus. Variations of the tf-idf weighting scheme are often used by search engines as a central tool in scoring and ranking a document's relevance given a user query.\n",
    "</p>\n",
    "    \n",
    "   <p>\n",
    "One of the simplest ranking functions is computed by summing the tf-idf for each query term; many more sophisticated ranking functions are variants of this simple model.\n",
    "</p>\n",
    "    \n",
    "   <p>\n",
    "Tf-idf can be successfully used for stop-words filtering in various subject fields including text summarization and classification.\n",
    "</p>\n",
    "    \n",
    "</font>"
   ]
  },
  {
   "cell_type": "markdown",
   "metadata": {
    "id": "4XLaGFUMxLiy"
   },
   "source": [
    "<font face='georgia'>\n",
    "    <h4><strong>How to Compute:</strong></h4>\n",
    "\n",
    "Typically, the tf-idf weight is composed by two terms: the first computes the normalized Term Frequency (TF), aka. the number of times a word appears in a document, divided by the total number of words in that document; the second term is the Inverse Document Frequency (IDF), computed as the logarithm of the number of the documents in the corpus divided by the number of documents where the specific term appears.\n",
    "\n",
    " <ul>\n",
    "    <li>\n",
    "<strong>TF:</strong> Term Frequency, which measures how frequently a term occurs in a document. Since every document is different in length, it is possible that a term would appear much more times in long documents than shorter ones. Thus, the term frequency is often divided by the document length (aka. the total number of terms in the document) as a way of normalization: <br>\n",
    "\n",
    "$TF(t) = \\frac{\\text{Number of times term t appears in a document}}{\\text{Total number of terms in the document}}.$\n",
    "</li>\n",
    "<li>\n",
    "<strong>IDF:</strong> Inverse Document Frequency, which measures how important a term is. While computing TF, all terms are considered equally important. However it is known that certain terms, such as \"is\", \"of\", and \"that\", may appear a lot of times but have little importance. Thus we need to weigh down the frequent terms while scale up the rare ones, by computing the following: <br>\n",
    "\n",
    "$IDF(t) = \\log_{e}\\frac{\\text{Total  number of documents}} {\\text{Number of documents with term t in it}}.$\n",
    "for numerical stabiltiy we will be changing this formula little bit\n",
    "$IDF(t) = \\log_{e}\\frac{\\text{Total  number of documents}} {\\text{Number of documents with term t in it}+1}.$\n",
    "</li>\n",
    "</ul>\n",
    "\n",
    "<br>\n",
    "<h4><strong>Example</strong></h4>\n",
    "<p>\n",
    "\n",
    "Consider a document containing 100 words wherein the word cat appears 3 times. The term frequency (i.e., tf) for cat is then (3 / 100) = 0.03. Now, assume we have 10 million documents and the word cat appears in one thousand of these. Then, the inverse document frequency (i.e., idf) is calculated as log(10,000,000 / 1,000) = 4. Thus, the Tf-idf weight is the product of these quantities: 0.03 * 4 = 0.12.\n",
    "</p>\n",
    "</font>"
   ]
  },
  {
   "cell_type": "markdown",
   "metadata": {
    "id": "dg2ooa4DxLiz"
   },
   "source": [
    "## Step - 1"
   ]
  },
  {
   "cell_type": "markdown",
   "metadata": {
    "id": "TAcTjhO8xLiz"
   },
   "source": [
    "<font face='georgia'>\n",
    "    <h4><strong>1. Let's Build a TFIDF Vectorizer & compare its results with Sklearn:</strong></h4>\n",
    "\n",
    "<ul>\n",
    "    <li> We will be implementing TFIDF vectorizer on a collection of text documents.</li>\n",
    "    <br>\n",
    "    <li> Later, we will compare the results of our own implementation of TFIDF vectorizer with that of sklearns implemenation TFIDF vectorizer.</li>\n",
    "    <br>\n",
    "    <li> Sklearn does few more tweaks in the implementation of its version of TFIDF vectorizer, so to replicate the exact results we would need to add following things to our custom implementation of tfidf vectorizer:\n",
    "       <ol>\n",
    "        <li> Sklearn has its vocabulary generated from idf sroted in alphabetical order</li>\n",
    "        <li> Sklearn formula of idf is different from the standard textbook formula. Here the constant <strong>\"1\"</strong> is added to the numerator and denominator of the idf as if an extra document was seen containing every term in the collection exactly once, which prevents zero divisions.\n",
    "            \n",
    " $IDF(t) = 1+\\log_{e}\\frac{1\\text{ }+\\text{ Total  number of documents in collection}} {1+\\text{Number of documents with term t in it}}.$\n",
    "        </li>\n",
    "        <li> Sklearn applies L2-normalization on its output matrix.</li>\n",
    "        <li> The final output of sklearn tfidf vectorizer is a sparse matrix.</li>\n",
    "    </ol>\n",
    "    <br>\n",
    "    <li>Steps to approach this task:\n",
    "    <ol>\n",
    "        <li> We would have to write both fit and transform methods for your custom implementation of tfidf vectorizer.</li>\n",
    "        <li> Print out the alphabetically sorted voacb after we fit our data and check if its the same as that of the feature names from sklearn tfidf vectorizer. </li>\n",
    "        <li> Print out the idf values from our implementation and check if its the same as that of sklearns tfidf vectorizer idf values. </li>\n",
    "        <li> Once we get our voacb and idf values to be same as that of sklearns implementation of tfidf vectorizer, we shall proceed to the below steps. </li>\n",
    "        <li> We need to make sure the output of our implementation is a sparse matrix. Before generating the final output, we need to normalize our sparse matrix using L2 normalization. We can refer to this link https://scikit-learn.org/stable/modules/generated/sklearn.preprocessing.normalize.html </li>\n",
    "        <li> After completing the above steps, let's print the output of our custom implementation and compare it with sklearns implementation of tfidf vectorizer.</li>\n",
    "        <li> To check the output of a single document in your collection of documents,  we can convert the sparse matrix related only to that document into dense matrix and print it.</li>\n",
    "        </ol>\n",
    "    </li>\n",
    "    <br>\n",
    "   </ul>\n",
    "\n"
   ]
  },
  {
   "cell_type": "markdown",
   "metadata": {
    "id": "OnV82tg1xLi0"
   },
   "source": [
    "### Corpus"
   ]
  },
  {
   "cell_type": "code",
   "execution_count": 2,
   "metadata": {
    "id": "bUsYm9wjxLi1"
   },
   "outputs": [],
   "source": [
    "## SkLearn# Collection of string documents\n",
    "\n",
    "corpus = [\n",
    "     'this is the first document',\n",
    "     'this document is the second document',\n",
    "     'and this is the third one',\n",
    "     'is this the first document',\n",
    "]"
   ]
  },
  {
   "cell_type": "markdown",
   "metadata": {
    "id": "eLwmFZfKxLi4"
   },
   "source": [
    "### SkLearn Implementation"
   ]
  },
  {
   "cell_type": "code",
   "execution_count": 3,
   "metadata": {
    "id": "Np4dfQOkxLi4"
   },
   "outputs": [],
   "source": [
    "from sklearn.feature_extraction.text import TfidfVectorizer\n",
    "vectorizer = TfidfVectorizer()\n",
    "vectorizer.fit(corpus)\n",
    "skl_output = vectorizer.transform(corpus)"
   ]
  },
  {
   "cell_type": "code",
   "execution_count": 4,
   "metadata": {
    "id": "-7Om8YpYxLi6",
    "outputId": "0a3bd0f5-4424-4400-944f-4482a80bd799"
   },
   "outputs": [
    {
     "name": "stdout",
     "output_type": "stream",
     "text": [
      "['and', 'document', 'first', 'is', 'one', 'second', 'the', 'third', 'this']\n"
     ]
    }
   ],
   "source": [
    "# sklearn feature names, they are sorted in alphabetic order by default.\n",
    "\n",
    "print(vectorizer.get_feature_names())"
   ]
  },
  {
   "cell_type": "code",
   "execution_count": 5,
   "metadata": {
    "id": "dTKplK96xLi-",
    "outputId": "53722fa2-6756-4aa0-f179-37b578bb6890"
   },
   "outputs": [
    {
     "name": "stdout",
     "output_type": "stream",
     "text": [
      "[1.91629073 1.22314355 1.51082562 1.         1.91629073 1.91629073\n",
      " 1.         1.91629073 1.        ]\n"
     ]
    }
   ],
   "source": [
    "# Here we will print the sklearn tfidf vectorizer idf values after applying the fit method\n",
    "# After using the fit function on the corpus the vocab has 9 words in it, and each has its idf value.\n",
    "\n",
    "print(vectorizer.idf_)"
   ]
  },
  {
   "cell_type": "code",
   "execution_count": 6,
   "metadata": {
    "id": "-CTiWHygxLjA",
    "outputId": "8d5a9cde-2c29-4afe-f7b4-1547e88dba4f"
   },
   "outputs": [
    {
     "data": {
      "text/plain": [
       "(4, 9)"
      ]
     },
     "execution_count": 6,
     "metadata": {},
     "output_type": "execute_result"
    }
   ],
   "source": [
    "# shape of sklearn tfidf vectorizer output after applying transform method.\n",
    "\n",
    "skl_output.shape"
   ]
  },
  {
   "cell_type": "code",
   "execution_count": 7,
   "metadata": {
    "id": "bDKEpbA-xLjD",
    "outputId": "87dafd65-5313-443f-8c6e-1b05cc8c2543"
   },
   "outputs": [
    {
     "name": "stdout",
     "output_type": "stream",
     "text": [
      "  (0, 8)\t0.38408524091481483\n",
      "  (0, 6)\t0.38408524091481483\n",
      "  (0, 3)\t0.38408524091481483\n",
      "  (0, 2)\t0.5802858236844359\n",
      "  (0, 1)\t0.46979138557992045\n"
     ]
    }
   ],
   "source": [
    "# sklearn tfidf values for first line of the above corpus.\n",
    "# Here the output is a sparse matrix\n",
    "\n",
    "print(skl_output[0])"
   ]
  },
  {
   "cell_type": "code",
   "execution_count": 8,
   "metadata": {
    "id": "3QWo34hexLjF",
    "outputId": "cdc04e08-989f-4bdc-dd7f-f1c82a9f90be"
   },
   "outputs": [
    {
     "name": "stdout",
     "output_type": "stream",
     "text": [
      "[[0.         0.46979139 0.58028582 0.38408524 0.         0.\n",
      "  0.38408524 0.         0.38408524]]\n"
     ]
    }
   ],
   "source": [
    "# sklearn tfidf values for first line of the above corpus.\n",
    "# To understand the output better, here we are converting the sparse output matrix to dense matrix and printing it.\n",
    "# Notice that this output is normalized using L2 normalization. sklearn does this by default.\n",
    "\n",
    "print(skl_output[0].toarray())"
   ]
  },
  {
   "cell_type": "markdown",
   "metadata": {
    "id": "qfIwx5LzxLjI"
   },
   "source": [
    "### Custom implementation"
   ]
  },
  {
   "cell_type": "code",
   "execution_count": 9,
   "metadata": {
    "collapsed": true,
    "id": "HjuCcJwXxLjJ"
   },
   "outputs": [
    {
     "name": "stderr",
     "output_type": "stream",
     "text": [
      "C:\\Users\\Shafiq\\anaconda3\\lib\\site-packages\\scipy\\sparse\\_index.py:82: SparseEfficiencyWarning: Changing the sparsity structure of a csr_matrix is expensive. lil_matrix is more efficient.\n",
      "  self._set_intXint(row, col, x.flat[0])\n"
     ]
    }
   ],
   "source": [
    "# Write your code here.\n",
    "# Make sure its well documented and readble with appropriate comments.\n",
    "# Compare your results with the above sklearn tfidf vectorizer\n",
    "# You are not supposed to use any other library apart from the ones given below\n",
    "\n",
    "from collections import Counter\n",
    "from tqdm import tqdm\n",
    "from scipy.sparse import csr_matrix\n",
    "import math\n",
    "import operator\n",
    "from sklearn.preprocessing import normalize\n",
    "import numpy\n",
    "\n",
    "def IDF(corpus, unique_words):\n",
    "\n",
    "  '''Calculates IDF values for all the \n",
    "      unique words in a corpus'''\n",
    "  idf_dict={}\n",
    "  N=len(corpus)\n",
    "  for i in unique_words:                          #We will execute this loop for every word in the unique_words list\n",
    "    count=0                           \n",
    "    for sen in corpus:                            #We are going through each document in the corpus one by one\n",
    "      if i in sen.split():                        #We are checking if the unique word is present in the current document from the loop\n",
    "        count=count+1                             #If the unique word is present in the current document , we increase the count by 1 (when the loop ends, we would know how many times the ith unique word has occured in the entire corpus)\n",
    "      idf_dict[i]=(math.log((1+N)/(count+1)))+1   #We calculate the IDF value of ith unique word and store them in a dict with key=ith unique word & value=IDF value of ith unique word\n",
    "  return idf_dict                                 #we return a dict of IDF values with keys=features/unique words and values=their respective IDF values\n",
    "\n",
    "def fit(full_data):\n",
    "  '''Returns the vocab and IDF values of all unique \n",
    "      words in a corpus'''\n",
    "  unique_words=set()                            #we use set as it removes duplicate values\n",
    "  if isinstance(full_data, (list,)):\n",
    "    for x in full_data:                         #for each document in the corpus\n",
    "      for y in x.split():                       #for each word in the document (we basically end up checking all the words in the corpus one by one)\n",
    "        if len(y)<2:                            #if a word's length from a document is less than 2, we ignore the word\n",
    "          continue\n",
    "        unique_words.add(y)                             #We add all the words having length more than 2 to unique_words\n",
    "    unique_words=sorted(list(unique_words))             #We are sorting all the unique words in alphabetical order\n",
    "    vocab= {j:i for i,j in enumerate(unique_words)}     #We are converting the list of unique_words into a dict with key=unique words & values=thier indices\n",
    "    idf_of_unique_words=IDF(full_data,unique_words)     #We store the dict from IDF function in this variable\n",
    "  return vocab,idf_of_unique_words\n",
    "\n",
    "Vocabulary,idf_of_vocabulary=fit(corpus)\n",
    "\n",
    "def transform(dataset,vocabulary,idf_values):           #This function will give us the matrix representation of words\n",
    "     sparse_matrix= csr_matrix( (len(dataset), len(vocabulary)), dtype=numpy.float64)  #Initiating a sparse_matrix with row=no. of documents in the corpus & column=no. of unique words\n",
    "     for row  in range(0,len(dataset)):                                                # for each row in the sparse_matrix or each document in the corpus\n",
    "       number_of_words_in_sentence=Counter(dataset[row].split())                       #all the words in a document are put into a counter object and stored in number_of_words_in_sentence\n",
    "       for word in dataset[row].split():                                              \n",
    "           if word in  list(vocabulary.keys()):                                       #Checking whether each word in a document is present in the vocabulary\n",
    "               tf_idf_value=(number_of_words_in_sentence[word]/len(dataset[row].split()))*(idf_values[word])  #if the word is present in the vocabulary, then we calculate its TF*IDF value\n",
    "               sparse_matrix[row,vocabulary[word]]=tf_idf_value                                               #For a document(row), wherever the unique words are present, we will fill only those column values with TF*IDF value\n",
    "     \n",
    "     output = normalize(sparse_matrix, norm='l2', axis=1, copy=True, return_norm=False)  # normalizing the sparse _matrix and returning the output\n",
    "     return output\n",
    "final_output=transform(corpus,Vocabulary,idf_of_vocabulary)"
   ]
  },
  {
   "cell_type": "code",
   "execution_count": 10,
   "metadata": {
    "colab": {
     "base_uri": "https://localhost:8080/",
     "height": 0
    },
    "id": "5th09MByvwRf",
    "outputId": "a7c5ec5f-6eb3-45ca-b1a3-00df96395994"
   },
   "outputs": [
    {
     "name": "stdout",
     "output_type": "stream",
     "text": [
      "dict_keys(['and', 'document', 'first', 'is', 'one', 'second', 'the', 'third', 'this'])\n"
     ]
    }
   ],
   "source": [
    "#feature names, they are sorted in alphabetic order.\n",
    "\n",
    "print(Vocabulary.keys())"
   ]
  },
  {
   "cell_type": "code",
   "execution_count": 11,
   "metadata": {
    "colab": {
     "base_uri": "https://localhost:8080/",
     "height": 0
    },
    "id": "Iucf8RDZwQYb",
    "outputId": "87c0b5be-699e-41b6-9952-aa351d423134"
   },
   "outputs": [
    {
     "name": "stdout",
     "output_type": "stream",
     "text": [
      "dict_values([1.916290731874155, 1.2231435513142097, 1.5108256237659907, 1.0, 1.916290731874155, 1.916290731874155, 1.0, 1.916290731874155, 1.0])\n"
     ]
    }
   ],
   "source": [
    "# Here we will print the idf values after applying the fit method\n",
    "# After using the fit function on the corpus the vocab has 9 words in it, and each has its idf value is printed.\n",
    "\n",
    "print(idf_of_vocabulary.values())"
   ]
  },
  {
   "cell_type": "code",
   "execution_count": 12,
   "metadata": {
    "colab": {
     "base_uri": "https://localhost:8080/",
     "height": 0
    },
    "id": "31CxPhRJrSz4",
    "outputId": "4dab74a8-8695-4aaa-dc8e-355c43ae0ce7"
   },
   "outputs": [
    {
     "name": "stdout",
     "output_type": "stream",
     "text": [
      "(4, 9)\n"
     ]
    }
   ],
   "source": [
    "# shape of tfidf vectorizer output after applying transform method.\n",
    "\n",
    "print(final_output.shape)"
   ]
  },
  {
   "cell_type": "code",
   "execution_count": 13,
   "metadata": {
    "colab": {
     "base_uri": "https://localhost:8080/",
     "height": 0
    },
    "id": "cFWtxiQ5t8g_",
    "outputId": "2be31ae6-4431-4fd5-f8fb-8a4ec1cfc2cc"
   },
   "outputs": [
    {
     "name": "stdout",
     "output_type": "stream",
     "text": [
      "  (0, 1)\t0.4697913855799205\n",
      "  (0, 2)\t0.580285823684436\n",
      "  (0, 3)\t0.3840852409148149\n",
      "  (0, 6)\t0.3840852409148149\n",
      "  (0, 8)\t0.3840852409148149\n"
     ]
    }
   ],
   "source": [
    "#tfidf values for first line of the above corpus.\n",
    "# Here the output is a sparse matrix\n",
    "\n",
    "print(final_output[0])"
   ]
  },
  {
   "cell_type": "code",
   "execution_count": 14,
   "metadata": {
    "colab": {
     "base_uri": "https://localhost:8080/",
     "height": 0
    },
    "id": "ZsSda75Qrt8r",
    "outputId": "a51c174b-0076-4d26-c586-e22f31e9a2ae"
   },
   "outputs": [
    {
     "name": "stdout",
     "output_type": "stream",
     "text": [
      "[[0.         0.46979139 0.58028582 0.38408524 0.         0.\n",
      "  0.38408524 0.         0.38408524]]\n"
     ]
    }
   ],
   "source": [
    "# tfidf values for first line of the above corpus.\n",
    "# To understand the output better, here we are converting the sparse output matrix to dense matrix and printing it.\n",
    "# Notice that this output is normalized using L2 normalization.\n",
    "\n",
    "dense_output=final_output.todense()\n",
    "print(dense_output[0])"
   ]
  },
  {
   "cell_type": "markdown",
   "metadata": {
    "id": "mPAvXju7xFfv"
   },
   "source": [
    "<h1>Result:</h1>\n",
    "\n",
    "***All the outputs from custom implementation are matching with the sklearn output.***"
   ]
  },
  {
   "cell_type": "markdown",
   "metadata": {
    "id": "MMxBmVZExLjK"
   },
   "source": [
    "## Step-2"
   ]
  },
  {
   "cell_type": "markdown",
   "metadata": {
    "id": "51j_OtqAxLjL"
   },
   "source": [
    "<font face='georgia'>\n",
    "    <h4><strong>2. Implement max features functionality:</strong></h4>\n",
    "\n",
    "<ul>\n",
    "    <li> As a part of this task we have to modify your fit and transform functions so that our vocab will contain only 50 terms with top idf scores.</li>\n",
    "    <br>\n",
    "    <li>This task is similar to your previous task, just that here your vocabulary is limited to only top 50 features names based on their idf values. Basically our output will have exactly 50 columns and the number of rows will depend on the number of documents you have in your corpus.</li>\n",
    "    <br>\n",
    "    <li>Here we will be given a pickle file, with file name <strong>cleaned_strings</strong>. You would have to load the corpus from this file and use it as input to our tfidf vectorizer.</li>\n",
    "    <br>\n",
    "    <li>Steps to approach this task:\n",
    "    <ol>\n",
    "        <li> We would have to write both fit and transform methods for our custom implementation of tfidf vectorizer, just like in the previous task. Additionally, here you have to limit the number of features generated to 50 as described above.</li>\n",
    "        <li> Now sort  our vocab based in descending order of idf values and print out the words in the sorted voacb after we fit our data. Here you should be getting only 50 terms in our vocab. And we should make sure to print idf values for each term in our vocab. </li>\n",
    "        <li> We should make sure the output of our implementation is a sparse matrix. Before generating the final output, we need to normalize our sparse matrix using L2 normalization. We can refer to this link https://scikit-learn.org/stable/modules/generated/sklearn.preprocessing.normalize.html </li>\n",
    "        <li> Now let's check the output of a single document in our collection of documents,  we can convert the sparse matrix related only to that document into dense matrix and print it. And this dense matrix should contain 1 row and 50 columns. </li>\n",
    "        </ol>\n",
    "    </li>\n",
    "    <br>\n",
    "   </ul>"
   ]
  },
  {
   "cell_type": "code",
   "execution_count": 15,
   "metadata": {
    "collapsed": true,
    "id": "NHxPLlwNxLjL"
   },
   "outputs": [
    {
     "ename": "ModuleNotFoundError",
     "evalue": "No module named 'google.colab'",
     "output_type": "error",
     "traceback": [
      "\u001b[1;31m---------------------------------------------------------------------------\u001b[0m",
      "\u001b[1;31mModuleNotFoundError\u001b[0m                       Traceback (most recent call last)",
      "\u001b[1;32m<ipython-input-15-cbdb3f506984>\u001b[0m in \u001b[0;36m<module>\u001b[1;34m\u001b[0m\n\u001b[0;32m      1\u001b[0m \u001b[1;31m# Below is the code to load the cleaned_strings pickle file\u001b[0m\u001b[1;33m\u001b[0m\u001b[1;33m\u001b[0m\u001b[1;33m\u001b[0m\u001b[0m\n\u001b[0;32m      2\u001b[0m \u001b[1;31m# Here corpus is of list type\u001b[0m\u001b[1;33m\u001b[0m\u001b[1;33m\u001b[0m\u001b[1;33m\u001b[0m\u001b[0m\n\u001b[1;32m----> 3\u001b[1;33m \u001b[1;32mfrom\u001b[0m \u001b[0mgoogle\u001b[0m\u001b[1;33m.\u001b[0m\u001b[0mcolab\u001b[0m \u001b[1;32mimport\u001b[0m \u001b[0mfiles\u001b[0m\u001b[1;33m\u001b[0m\u001b[1;33m\u001b[0m\u001b[0m\n\u001b[0m\u001b[0;32m      4\u001b[0m \u001b[0muploaded\u001b[0m \u001b[1;33m=\u001b[0m \u001b[0mfiles\u001b[0m\u001b[1;33m.\u001b[0m\u001b[0mupload\u001b[0m\u001b[1;33m(\u001b[0m\u001b[1;33m)\u001b[0m\u001b[1;33m\u001b[0m\u001b[1;33m\u001b[0m\u001b[0m\n\u001b[0;32m      5\u001b[0m \u001b[1;33m\u001b[0m\u001b[0m\n",
      "\u001b[1;31mModuleNotFoundError\u001b[0m: No module named 'google.colab'"
     ]
    }
   ],
   "source": [
    "# Below is the code to load the cleaned_strings pickle file \n",
    "# Here corpus is of list type\n",
    "from google.colab import files\n",
    "uploaded = files.upload()\n",
    "\n",
    "\n",
    "import pickle\n",
    "with open('cleaned_strings', 'rb') as f:\n",
    "    corpus = pickle.load(f)\n",
    "    "
   ]
  },
  {
   "cell_type": "code",
   "execution_count": null,
   "metadata": {
    "colab": {
     "base_uri": "https://localhost:8080/",
     "height": 0
    },
    "id": "UkwVQpqf2bAu",
    "outputId": "1ddf9fc8-7065-4563-d390-276914a97d12"
   },
   "outputs": [],
   "source": [
    "# printing the length of the corpus loaded\n",
    "print(\"Number of documents in corpus = \",len(corpus))"
   ]
  },
  {
   "cell_type": "markdown",
   "metadata": {
    "id": "RQa7nOaQyAoT"
   },
   "source": [
    "\n",
    "\n",
    "\n",
    "*   In the below section, the same code is used with minor variations.\n",
    "*   Only the code change from the previous section will be highlighted\n",
    "\n",
    "*   Our goal is to limit the vocabulary to top 50 words which have the highest IDF values.\n",
    "*   Hence,  we will make all our modifications within the fit function, rest of the code are same. \n",
    "\n",
    "*   We will take the unique words with top 50 IDF values and put into the new_vocabulary.\n",
    "*   We will make the fit function return the new_vocabulary with only 50 words.\n",
    "\n",
    "\n",
    "\n",
    "\n",
    "\n",
    "\n"
   ]
  },
  {
   "cell_type": "code",
   "execution_count": null,
   "metadata": {
    "id": "ZULfoOIdxLjQ"
   },
   "outputs": [],
   "source": [
    "# Final code\n",
    "\n",
    "\n",
    "def IDF(corpus, unique_words):\n",
    "\n",
    "  '''Calculates IDF values for all the \n",
    "      unique words in a corpus'''\n",
    "  idf_dict={}\n",
    "  N=len(corpus)\n",
    "  for i in unique_words:    \n",
    "    count=0                           \n",
    "    for sen in corpus:\n",
    "      if i in sen.split():\n",
    "        count=count+1                             \n",
    "      idf_dict[i]=(math.log((1+N)/(count+1)))+1   \n",
    "  return idf_dict\n",
    "\n",
    "def fit(full_data):\n",
    "  '''Returns the vocab and IDF values of all unique \n",
    "      words in a corpus'''\n",
    "  unique_words=set()                           \n",
    "  if isinstance(full_data, (list,)):\n",
    "    for x in full_data:\n",
    "      for y in x.split():\n",
    "        if len(y)<2:\n",
    "          continue\n",
    "        unique_words.add(y)\n",
    "    unique_words=sorted(list(unique_words))\n",
    "    vocab= {j:i for i,j in enumerate(unique_words)}\n",
    "    idf_of_unique_words=IDF(full_data,unique_words)\n",
    "    idf_of_top_50=sorted(idf_of_unique_words.items(), key=lambda x: x[1], reverse=True)[:50]  #From the dict of IDF values, thier top 50 is stored in idf_of_top_50\n",
    "  key_list=[]                                                                                 #initiating empty key_list \n",
    "  for ele in range(0,len(idf_of_top_50)):\n",
    "    key_list.append(idf_of_top_50[ele][0])                     #key values of top 50 IDF dicts,i.e unique words with top 50 idf values are stored in key_list\n",
    "  new_vocab= {j:i for i,j in enumerate(key_list)}              #dict new_vocab is created with top 50 unique words with highest IDF values where keys=unique words & values=indices\n",
    "  idf_of_top_50=dict(idf_of_top_50)                               \n",
    "  return new_vocab,idf_of_top_50                               #returning new vocabulary with top 50 words, IDF values of top 50 words in dict form\n",
    "\n",
    "Vocabulary,idf_of_vocabulary=fit(corpus)\n",
    "\n",
    "def transform(dataset,vocabulary,idf_values):\n",
    "     sparse_matrix= csr_matrix( (len(dataset), len(vocabulary)), dtype=numpy.float64)\n",
    "     for row  in range(0,len(dataset)):\n",
    "       number_of_words_in_sentence=Counter(dataset[row].split())\n",
    "       for word in dataset[row].split():\n",
    "           if word in  list(vocabulary.keys()):\n",
    "               tf_idf_value=(number_of_words_in_sentence[word]/len(dataset[row].split()))*(idf_values[word])\n",
    "               sparse_matrix[row,vocabulary[word]]=tf_idf_value\n",
    "  \n",
    "     output = normalize(sparse_matrix, norm='l2', axis=1, copy=True, return_norm=False)\n",
    "     return output\n",
    "final_output=transform(corpus,Vocabulary,idf_of_vocabulary)\n",
    "\n"
   ]
  },
  {
   "cell_type": "code",
   "execution_count": 19,
   "metadata": {
    "colab": {
     "base_uri": "https://localhost:8080/"
    },
    "id": "Q3rY6Ypig4iB",
    "outputId": "6844064a-53c3-4ee1-932e-6dee85e4faf6"
   },
   "outputs": [
    {
     "name": "stdout",
     "output_type": "stream",
     "text": [
      "Length of the Vocabulary :  9\n",
      "\n",
      "\n",
      "\n",
      "Vocabulary :  {'and': 0, 'document': 1, 'first': 2, 'is': 3, 'one': 4, 'second': 5, 'the': 6, 'third': 7, 'this': 8}\n",
      "\n",
      "\n",
      "\n",
      "IDF values of Vocabulary :  {'and': 1.916290731874155, 'document': 1.2231435513142097, 'first': 1.5108256237659907, 'is': 1.0, 'one': 1.916290731874155, 'second': 1.916290731874155, 'the': 1.0, 'third': 1.916290731874155, 'this': 1.0}\n",
      "\n",
      "\n",
      "\n"
     ]
    }
   ],
   "source": [
    "#Features generated is limited to 50 and their IDF values are printed\n",
    "\n",
    "print(\"Length of the Vocabulary : \",len(Vocabulary),end='\\n\\n\\n\\n')\n",
    "print(\"Vocabulary : \",Vocabulary,end='\\n\\n\\n\\n')\n",
    "print(\"IDF values of Vocabulary : \",idf_of_vocabulary,end='\\n\\n\\n\\n')\n"
   ]
  },
  {
   "cell_type": "code",
   "execution_count": 18,
   "metadata": {
    "colab": {
     "base_uri": "https://localhost:8080/",
     "height": 0
    },
    "id": "BMa7W2GV_KbB",
    "outputId": "9a9de5bc-07aa-4b83-e4ba-52431a985d08"
   },
   "outputs": [
    {
     "name": "stdout",
     "output_type": "stream",
     "text": [
      "(4, 9)\n"
     ]
    }
   ],
   "source": [
    "#Shape of the output matrix\n",
    "\n",
    "print(final_output.shape)"
   ]
  },
  {
   "cell_type": "code",
   "execution_count": 17,
   "metadata": {
    "colab": {
     "base_uri": "https://localhost:8080/",
     "height": 0
    },
    "id": "1_DJnnR3xLjR",
    "outputId": "33f73c82-d222-4fed-9398-ca06fff42dd5"
   },
   "outputs": [
    {
     "name": "stdout",
     "output_type": "stream",
     "text": [
      "  (0, 1)\t0.4697913855799205\n",
      "  (0, 2)\t0.580285823684436\n",
      "  (0, 3)\t0.3840852409148149\n",
      "  (0, 6)\t0.3840852409148149\n",
      "  (0, 8)\t0.3840852409148149\n",
      "  (1, 1)\t0.6876235979836937\n",
      "  (1, 3)\t0.2810886740337529\n",
      "  (1, 5)\t0.5386476208856762\n",
      "  (1, 6)\t0.2810886740337529\n",
      "  (1, 8)\t0.2810886740337529\n",
      "  (2, 0)\t0.511848512707169\n",
      "  (2, 3)\t0.267103787642168\n",
      "  (2, 4)\t0.511848512707169\n",
      "  (2, 6)\t0.267103787642168\n",
      "  (2, 7)\t0.511848512707169\n",
      "  (2, 8)\t0.267103787642168\n",
      "  (3, 1)\t0.4697913855799205\n",
      "  (3, 2)\t0.580285823684436\n",
      "  (3, 3)\t0.3840852409148149\n",
      "  (3, 6)\t0.3840852409148149\n",
      "  (3, 8)\t0.3840852409148149\n"
     ]
    }
   ],
   "source": [
    "#Note that output of our implementation is a sparse matrix and is normalized\n",
    "\n",
    "print(final_output)"
   ]
  },
  {
   "cell_type": "code",
   "execution_count": 16,
   "metadata": {
    "colab": {
     "base_uri": "https://localhost:8080/",
     "height": 0
    },
    "id": "fLU_4_qG7j7g",
    "outputId": "79a9b1d7-c2d8-44d9-c446-d293f5af7c1f"
   },
   "outputs": [
    {
     "name": "stdout",
     "output_type": "stream",
     "text": [
      "Output of a single document :    (0, 1)\t0.4697913855799205\n",
      "  (0, 2)\t0.580285823684436\n",
      "  (0, 3)\t0.3840852409148149\n",
      "  (0, 6)\t0.3840852409148149\n",
      "  (0, 8)\t0.3840852409148149\n",
      "\n",
      "Dense representation of the same single document : \n",
      "\n",
      "[[0.         0.46979139 0.58028582 0.38408524 0.         0.\n",
      "  0.38408524 0.         0.38408524]]\n"
     ]
    }
   ],
   "source": [
    "#Sparse and Dense representation of the first document in the corpus\n",
    "\n",
    "print(\"Output of a single document : \",final_output[0],end='\\n\\n')\n",
    "dense_of_single_doc=final_output[0].todense()\n",
    "print(\"Dense representation of the same single document : \",dense_of_single_doc,sep='\\n\\n')"
   ]
  },
  {
   "cell_type": "markdown",
   "metadata": {},
   "source": [
    "# Conclusion : We have successfully implemented TF-IDF vectorizer from scratch without scikit learn library."
   ]
  }
 ],
 "metadata": {
  "colab": {
   "collapsed_sections": [],
   "name": "Assignment_3_Instructions.ipynb",
   "provenance": []
  },
  "kernelspec": {
   "display_name": "Python 3",
   "language": "python",
   "name": "python3"
  },
  "language_info": {
   "codemirror_mode": {
    "name": "ipython",
    "version": 3
   },
   "file_extension": ".py",
   "mimetype": "text/x-python",
   "name": "python",
   "nbconvert_exporter": "python",
   "pygments_lexer": "ipython3",
   "version": "3.8.8"
  }
 },
 "nbformat": 4,
 "nbformat_minor": 1
}
